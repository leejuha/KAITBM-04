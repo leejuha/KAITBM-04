{
 "cells": [
  {
   "cell_type": "markdown",
   "metadata": {},
   "source": [
    "```\n",
    "[Title] Autoencoder using Tensorflow.Keras\n",
    "[Author] Yibeck Lee(yibec.Lee@gmail.com)\n",
    "[Contents]\n",
    " - Aucoencoder for Dimension Reduction\n",
    "[References]\n",
    " - https://towardsdatascience.com/pca-vs-autoencoders-1ba08362f450\n",
    " - https://medium.com/datadriveninvestor/deep-autoencoder-using-keras-b77cd3e8be95\n",
    "```"
   ]
  },
  {
   "cell_type": "code",
   "execution_count": 1,
   "metadata": {},
   "outputs": [
    {
     "name": "stderr",
     "output_type": "stream",
     "text": [
      "Using TensorFlow backend.\n"
     ]
    }
   ],
   "source": [
    "from keras.layers import Input, Dense\n",
    "from keras.models import Model\n",
    "import numpy as np"
   ]
  },
  {
   "cell_type": "code",
   "execution_count": 2,
   "metadata": {},
   "outputs": [
    {
     "name": "stdout",
     "output_type": "stream",
     "text": [
      "[[1 1 1]\n",
      " [1 1 1]\n",
      " [1 1 1]\n",
      " [1 1 1]\n",
      " [1 2 3]\n",
      " [2 2 2]\n",
      " [2 2 2]\n",
      " [2 2 2]\n",
      " [2 2 2]\n",
      " [1 3 5]]\n"
     ]
    }
   ],
   "source": [
    "trainFeatures = np.array([\n",
    "  [1,1,1]\n",
    ", [1,1,1]\n",
    ", [1,1,1]\n",
    ", [1,1,1]\n",
    ", [1,2,3]\n",
    ", [2,2,2]\n",
    ", [2,2,2]\n",
    ", [2,2,2]\n",
    ", [2,2,2]\n",
    ", [1,3,5]\n",
    "])\n",
    "print(trainFeatures)"
   ]
  },
  {
   "cell_type": "code",
   "execution_count": 3,
   "metadata": {},
   "outputs": [],
   "source": [
    "encoding_dim = 2\n",
    "input_img = Input(shape=(3,))\n",
    "encoded = Dense(encoding_dim)(input_img)\n",
    "decoded = Dense(3)(encoded)\n",
    "autoencoder = Model(input_img, decoded)\n",
    "autoencoder.compile(optimizer='adadelta', loss='mse')"
   ]
  },
  {
   "cell_type": "code",
   "execution_count": 4,
   "metadata": {},
   "outputs": [
    {
     "data": {
      "text/plain": [
       "<keras.callbacks.History at 0xec61e10>"
      ]
     },
     "execution_count": 4,
     "metadata": {},
     "output_type": "execute_result"
    }
   ],
   "source": [
    "autoencoder.fit(trainFeatures, trainFeatures,\n",
    "                epochs=100,\n",
    "                batch_size=2,\n",
    "                verbose=0,\n",
    "                shuffle=True)"
   ]
  },
  {
   "cell_type": "code",
   "execution_count": 5,
   "metadata": {},
   "outputs": [],
   "source": [
    "decoded_imgs = autoencoder.predict(trainFeatures)"
   ]
  },
  {
   "cell_type": "code",
   "execution_count": 6,
   "metadata": {},
   "outputs": [
    {
     "data": {
      "text/plain": [
       "array([[1.1238575, 1.0609558, 1.2607241],\n",
       "       [1.1238575, 1.0609558, 1.2607241],\n",
       "       [1.1238575, 1.0609558, 1.2607241],\n",
       "       [1.1238575, 1.0609558, 1.2607241],\n",
       "       [1.1910183, 2.0839052, 2.594913 ],\n",
       "       [1.800581 , 1.9222975, 2.1498702],\n",
       "       [1.800581 , 1.9222975, 2.1498702],\n",
       "       [1.800581 , 1.9222975, 2.1498702],\n",
       "       [1.800581 , 1.9222975, 2.1498702],\n",
       "       [1.2581792, 3.1068552, 3.9291024]], dtype=float32)"
      ]
     },
     "execution_count": 6,
     "metadata": {},
     "output_type": "execute_result"
    }
   ],
   "source": [
    "decoded_imgs"
   ]
  },
  {
   "cell_type": "code",
   "execution_count": 7,
   "metadata": {},
   "outputs": [],
   "source": [
    "error = trainFeatures - decoded_imgs"
   ]
  },
  {
   "cell_type": "code",
   "execution_count": 8,
   "metadata": {},
   "outputs": [
    {
     "data": {
      "text/plain": [
       "array([[0.01534068, 0.00371561, 0.06797704],\n",
       "       [0.01534068, 0.00371561, 0.06797704],\n",
       "       [0.01534068, 0.00371561, 0.06797704],\n",
       "       [0.01534068, 0.00371561, 0.06797704],\n",
       "       [0.03648801, 0.00704009, 0.16409547],\n",
       "       [0.03976795, 0.00603768, 0.02246106],\n",
       "       [0.03976795, 0.00603768, 0.02246106],\n",
       "       [0.03976795, 0.00603768, 0.02246106],\n",
       "       [0.03976795, 0.00603768, 0.02246106],\n",
       "       [0.06665649, 0.01141802, 1.14682163]])"
      ]
     },
     "execution_count": 8,
     "metadata": {},
     "output_type": "execute_result"
    }
   ],
   "source": [
    "error_square = error**2\n",
    "error_square"
   ]
  },
  {
   "cell_type": "code",
   "execution_count": 9,
   "metadata": {},
   "outputs": [
    {
     "data": {
      "text/plain": [
       "array([0.08703332, 0.08703332, 0.08703332, 0.08703332, 0.20762357,\n",
       "       0.06826669, 0.06826669, 0.06826669, 0.06826669, 1.22489614])"
      ]
     },
     "execution_count": 9,
     "metadata": {},
     "output_type": "execute_result"
    }
   ],
   "source": [
    "error_square = np.sum(error_square, axis=1)\n",
    "error_square"
   ]
  },
  {
   "cell_type": "code",
   "execution_count": 10,
   "metadata": {},
   "outputs": [
    {
     "data": {
      "image/png": "[encoded data removed]",
      "text/plain": [
       "<Figure size 432x288 with 1 Axes>"
      ]
     },
     "metadata": {
      "needs_background": "light"
     },
     "output_type": "display_data"
    }
   ],
   "source": [
    "%matplotlib inline\n",
    "import matplotlib.pyplot as plt\n",
    "ind = np.arange(10) \n",
    "plt.bar(ind, error_square)\n",
    "plt.show()"
   ]
  },
  {
   "cell_type": "code",
   "execution_count": null,
   "metadata": {},
   "outputs": [],
   "source": []
  },
  {
   "cell_type": "code",
   "execution_count": null,
   "metadata": {},
   "outputs": [],
   "source": []
  }
 ],
 "metadata": {
  "kernelspec": {
   "display_name": "Python 3",
   "language": "python",
   "name": "python3"
  },
  "language_info": {
   "codemirror_mode": {
    "name": "ipython",
    "version": 3
   },
   "file_extension": ".py",
   "mimetype": "text/x-python",
   "name": "python",
   "nbconvert_exporter": "python",
   "pygments_lexer": "ipython3",
   "version": "3.6.8"
  }
 },
 "nbformat": 4,
 "nbformat_minor": 2
}
